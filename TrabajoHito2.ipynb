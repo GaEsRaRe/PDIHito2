{
 "cells": [
  {
   "cell_type": "markdown",
   "metadata": {},
   "source": [
    "# Trabajo Final de Procesamiento de Imagenes\n",
    "## Hito 2\n",
    "<br>\n",
    "## Alumnos: \n",
    "Gabriel Ramirez Reategui <br>\n",
    "<br>Carlos Guizado Diaz"
   ]
  },
  {
   "cell_type": "markdown",
   "metadata": {},
   "source": [
    "En el presente documento se expondran los avances del proyecto de procesamiento de imagenes digitales del curso de UPC <br> <br>\n",
    "Siguiendo la definicion: <br>\n",
    "<b>\"El trabajo (TF), tiene por objetivo que los estudiantes apliquen los conocimientos adquiridos\n",
    "en técnicas de Procesamiento Digital de Imágenes, en especial los conceptos de preprocesamiento,\n",
    "filtros, segmentación y reconocimiento de patrones\"</b> <br><br>\n",
    "El Hito 2 requeria de tener una imagen con una partitura y encuadrar cada nota por separado por separado. Para esto se requiere una serie de pasos a seguir:\n",
    "<ul>\n",
    "<li>Cargar la Imagen</li>\n",
    "<li>Seccionar la Imagen por bloque</li>\n",
    "<li>Limpiar las Lineas</li>\n",
    "<li>Seccionar la imagen por nota</li>\n",
    "</ul>\n"
   ]
  },
  {
   "cell_type": "markdown",
   "metadata": {},
   "source": [
    "Para que esto pueda funcionar, en primer lugar usaremos el archivo functions, que incluye las funciones basicas de <b>Leer,cargar,guardar,mostrar y aplicar tresshold</b>:<br>\n",
    "\n",
    "### functions.py"
   ]
  },
  {
   "cell_type": "code",
   "execution_count": 15,
   "metadata": {
    "collapsed": true
   },
   "outputs": [],
   "source": [
    "import cv2\n",
    "import numpy as np\n",
    "from matplotlib import pyplot as plt\n",
    "\n",
    "def loadimg(link): #Load picture\n",
    "    img  = cv2.imread(link)\n",
    "    img = cv2.cvtColor(img,cv2.COLOR_BGR2RGB)\n",
    "    return img\n",
    "\n",
    "def show(temp): #Used to show the picture\n",
    "    a = cv2.cvtColor(temp,cv2.COLOR_GRAY2RGB)\n",
    "    plt.imshow(a)\n",
    "    plt.show()\n",
    "    return\n",
    "\n",
    "def to_grey(image):\n",
    "    img = np.copy(image)\n",
    "    img = cv2.cvtColor(img,cv2.COLOR_RGB2GRAY)\n",
    "    return img\n",
    "\n",
    "def saveimg(imagen,name):\n",
    "    cv2.imwrite(name,imagen)\n",
    "    pass\n",
    "\n",
    "def tresshold(image,value):\n",
    "    img = np.copy(image)\n",
    "    sx,sy = np.size(image,0),np.size(image,1)\n",
    "    for i in range(0,sx):\n",
    "        for j in range(0,sy):\n",
    "            if(image[i][j] > value):\n",
    "                img[i][j] = 255\n",
    "            else:\n",
    "                img[i][j] = 0\n",
    "    \n",
    "    return img"
   ]
  },
  {
   "cell_type": "markdown",
   "metadata": {},
   "source": [
    "Luego utilizamos esta libreria en nuestro archivo principal de la siguiente manera:"
   ]
  },
  {
   "cell_type": "code",
   "execution_count": 25,
   "metadata": {
    "collapsed": true
   },
   "outputs": [],
   "source": [
    "import functions as f"
   ]
  },
  {
   "cell_type": "markdown",
   "metadata": {},
   "source": [
    "Luego llega momento de usar el codigo en cuestion. En primer lugar, necesitamos una imagen definida. Para este proyecto, utilizaremos una imagen llamada test.png.<br>\n",
    "![title](test.png)"
   ]
  },
  {
   "cell_type": "markdown",
   "metadata": {},
   "source": [
    "Primero se carga la imagen:"
   ]
  },
  {
   "cell_type": "code",
   "execution_count": 5,
   "metadata": {
    "collapsed": true
   },
   "outputs": [],
   "source": [
    "test = f.loadimg(\"test.png\")\n",
    "test = f.to_grey(test)"
   ]
  },
  {
   "cell_type": "markdown",
   "metadata": {},
   "source": [
    "En este caso, necesitamos separa cada bloque de partitura en nuestro trabajo. Para esta situacion utilizaremos el metodo de linea vacia, el cual generara bloques de imagenes separadas por los espacios vacios de la imagen. Para esta imagen no es necesario usar <b>f.tresshold()</b> pero existiran situaciones el las cuales si:<br><br>\n",
    "\n",
    "La funcion mostrada a continuacion solo nos dara las posiciones y los tamaños de estos bloques, para ser separados luego:"
   ]
  },
  {
   "cell_type": "code",
   "execution_count": 6,
   "metadata": {
    "collapsed": true
   },
   "outputs": [],
   "source": [
    "def line_separator(img,color): #en caso se bloques blancos se utilizaria el valor 255\n",
    "    sx,sy = np.size(img,0),np.size(img,1)\n",
    "    c = 0\n",
    "    ca =[]\n",
    "    for i in range(0,sx):\n",
    "        temp = False\n",
    "        for j in range(0,sy):\n",
    "            if(img[i][j] != color):\n",
    "                temp = True\n",
    "        if temp == True:\n",
    "            c = c+1\n",
    "        elif(c != 0):\n",
    "            ca.append([c,i-c,i])\n",
    "            c = 0\n",
    "    return ca\n"
   ]
  },
  {
   "cell_type": "markdown",
   "metadata": {},
   "source": [
    "Luego como se menciono con anterioridad, una vez obtenidas las posiciones, necesitamos seccionar nuestra imagen anterior. Para lo cual se ha creado la siguiente funcion:"
   ]
  },
  {
   "cell_type": "code",
   "execution_count": 12,
   "metadata": {
    "collapsed": true
   },
   "outputs": [],
   "source": [
    "def separator_blocks(img,cord): #recibe las cordenadas obtenidas por line_separator()\n",
    "    images = []\n",
    "    for i in range(0,np.size(cord,0)):\n",
    "        #For each one\n",
    "        csize = cord[i][0] \n",
    "        sy = np.size(img,1)\n",
    "        cstart = cord[i][1]\n",
    "        temp = np.zeros([csize,sy],dtype=np.uint8)\n",
    "        for n in range(0,csize):\n",
    "            for m in range(0,sy):\n",
    "                temp[n][m] = img[n + cstart][m]\n",
    "        images.append(temp)\n",
    "    return images #Retornara una serie de imagenes"
   ]
  },
  {
   "cell_type": "markdown",
   "metadata": {},
   "source": [
    "Pero existe algo importante en el caso de nuestra imagen, y es el uso de las lineas de corte. Seria bueno limpiar la imagen. Para eso llegamos a la siguiente parte del codigo.\n",
    "\n",
    "## Limpieza de lineas:\n",
    "\n",
    "Para limpiar las lineas de las notas musicales existen diferentes maneras de trabajar, para nuestro proyecto se considero tres metodos:\n",
    "<ul>\n",
    "<li>Erosion y dilatacion</li>\n",
    "<li>Tresshold y dilatacion</li>\n",
    "<li>Esqueleto</li>\n",
    "</ul>\n",
    "Por cuestiones de facilidad se tomo en consideracion la primera de las opciones.<br>\n",
    "Aprovechando las facilidades que entrega opencv, se pudo crear la funcion rapidamente:\n",
    "<br>"
   ]
  },
  {
   "cell_type": "code",
   "execution_count": 10,
   "metadata": {
    "collapsed": true
   },
   "outputs": [],
   "source": [
    "def EliminateLines(img):\n",
    "    im = np.copy(img)\n",
    "    sx,sy = int(im.shape[0]), int(im.shape[1])\n",
    "    #Another Tresshold\n",
    "    for i in range(0,sx):\n",
    "        for j in range(0,sy):\n",
    "            if(im[i][j]>=210):\n",
    "                im[i][j] = 255\n",
    "            else:\n",
    "                im[i][j] = 0\n",
    "    im = ~im\n",
    "    imgFinal = np.copy(im)\n",
    "    (rows, cols) = im.shape\n",
    "    estructura = np.array([[1], \n",
    "              [1],\n",
    "             [1]])\n",
    "    #Falta por convertir a manual\n",
    "    imgFinal = cv2.erode(imgFinal, estructura, iterations = 1);\n",
    "    imgFinal = cv2.dilate(imgFinal, estructura, iterations = 1);\n",
    "    imgFinal = cv2.bitwise_not(imgFinal)\n",
    "    return imgFinal\n",
    "\n"
   ]
  },
  {
   "cell_type": "markdown",
   "metadata": {},
   "source": [
    "## Proceso de extraccion:\n",
    "Una vez obtenida las funciones basicas para el Hito 2, podemos movilizarnos a realizar el proceso de separacion. En primer lugar, obtenemos los bloques de la imagen no modificada:"
   ]
  },
  {
   "cell_type": "code",
   "execution_count": 11,
   "metadata": {
    "collapsed": true
   },
   "outputs": [],
   "source": [
    "data = line_separator(test,255)"
   ]
  },
  {
   "cell_type": "markdown",
   "metadata": {},
   "source": [
    "Pero queremos obtener los bloques ya limpios de la imagen, por lo cual lo obtendremos de la imagen limpiada:\n"
   ]
  },
  {
   "cell_type": "code",
   "execution_count": 27,
   "metadata": {},
   "outputs": [
    {
     "data": {
      "image/png": "[encoded data removed]",
      "text/plain": [
       "<matplotlib.figure.Figure at 0x7f54ac40ec88>"
      ]
     },
     "metadata": {},
     "output_type": "display_data"
    }
   ],
   "source": [
    "clear = EliminateLines(test)\n",
    "f.show(clear)\n",
    "saveimg(clear,\"clean.png\")"
   ]
  },
  {
   "cell_type": "markdown",
   "metadata": {},
   "source": [
    "<b>Nota: Por la definicion de la imagen no se puede observar correctamente la imagen en cuestion, por lo cual se cargara aqui:<br>\n",
    "![title](clean.png)"
   ]
  },
  {
   "cell_type": "markdown",
   "metadata": {},
   "source": [
    "Una vez obtenido los valores, pasamos a separar los bloques:"
   ]
  },
  {
   "cell_type": "code",
   "execution_count": 29,
   "metadata": {},
   "outputs": [],
   "source": [
    "result_1 = separator_blocks(clear,data)\n",
    "saveimg(result_1[2],\"demo2.png\")"
   ]
  },
  {
   "cell_type": "markdown",
   "metadata": {},
   "source": [
    "![title](demo2.png)<br>\n",
    "Utilizando los datos encontrados, podemos pasar a separar la imagen otra vez, ya tenemos la funcion de separar en base a lineas horizontales blancas, por lo cual aprovecharemos una vez mas las facilidades de opencv para hacer una transposicion de matrices, voltendo la imagen:"
   ]
  },
  {
   "cell_type": "code",
   "execution_count": 36,
   "metadata": {
    "collapsed": true
   },
   "outputs": [],
   "source": [
    "def transpose_all(ar):\n",
    "    for i in range(0,len(ar)):\n",
    "        ar[i] = cv2.transpose(ar[i])\n",
    "    \n",
    "    return ar"
   ]
  },
  {
   "cell_type": "code",
   "execution_count": 38,
   "metadata": {},
   "outputs": [
    {
     "data": {
      "image/png": "[encoded data removed]",
      "text/plain": [
       "<matplotlib.figure.Figure at 0x7f54ac6c7320>"
      ]
     },
     "metadata": {},
     "output_type": "display_data"
    }
   ],
   "source": [
    "result_2 = transpose_all(result_1)\n",
    "show(result_2[2])"
   ]
  },
  {
   "cell_type": "markdown",
   "metadata": {},
   "source": [
    "Usaremos otra vez la funcion de separar bloques, pero ya que ahora nuestro <b>result_2</b> es un arreglo de imagenes, crearemos las funciones respectivas para poder separarlas de esta manera:"
   ]
  },
  {
   "cell_type": "code",
   "execution_count": 39,
   "metadata": {
    "collapsed": true
   },
   "outputs": [],
   "source": [
    "def ar_line_separator(ar,color):\n",
    "    ans = []\n",
    "    for i in range(0,len(ar)):\n",
    "        ans.append(line_separator(ar[i],255))\n",
    "    return ans\n",
    "def ar_separator_blocks(ar,cords):\n",
    "    ans = []\n",
    "    for i in range(0,len(ar)):\n",
    "        ans.append(separator_blocks(ar[i],cords[i]))\n",
    "    \n",
    "    return ans\n",
    "def transponse_arr_all(ar):\n",
    "    for i in range(0,len(ar)):\n",
    "        ar[i]= transpose_all(ar[i])\n",
    "    return ar\n"
   ]
  },
  {
   "cell_type": "code",
   "execution_count": 46,
   "metadata": {},
   "outputs": [
    {
     "data": {
      "image/png": "[encoded data removed]",
      "text/plain": [
       "<matplotlib.figure.Figure at 0x7f54ac225e10>"
      ]
     },
     "metadata": {},
     "output_type": "display_data"
    }
   ],
   "source": [
    "result_3 = ar_line_separator(result_2,255)\n",
    "result_4 = ar_separator_blocks(result_2,result_3)\n",
    "show(result_4[2][15]) #Se muestra un ejemplo"
   ]
  },
  {
   "cell_type": "markdown",
   "metadata": {},
   "source": [
    "Una vez obtenida la informacion, se aplica la funcion de transposicion nuevamente, esta vez la version para arreglos, que permitira voltear la imagen a su forma original:"
   ]
  },
  {
   "cell_type": "code",
   "execution_count": 47,
   "metadata": {
    "collapsed": true
   },
   "outputs": [],
   "source": [
    "result_5 = transponse_arr_all(result_4)"
   ]
  },
  {
   "cell_type": "markdown",
   "metadata": {},
   "source": [
    "Para terminar, existe un factor importante que se da en algunas situaciones, como se puede observar, alguna de las partituras vendran con doble linea, esto puede ser solucionado gracias a la funcion de separacion de lineas. Para facilitar el trabajo, se utiliza un for sencillo:"
   ]
  },
  {
   "cell_type": "code",
   "execution_count": 48,
   "metadata": {
    "collapsed": true
   },
   "outputs": [],
   "source": [
    "for i in range(0,len(result_5)):\n",
    "    temp = ar_line_separator(result_5[i],255)\n",
    "    result_5[i] = ar_separator_blocks(result_5[i],temp)"
   ]
  },
  {
   "cell_type": "markdown",
   "metadata": {},
   "source": [
    "Todo este proceso dara como resultado un vector de tamaño [cantidad de bloques] [cantidad de notas] [cantidad de notas en la misma linea]"
   ]
  },
  {
   "cell_type": "code",
   "execution_count": 49,
   "metadata": {},
   "outputs": [
    {
     "data": {
      "image/png": "[encoded data removed]",
      "text/plain": [
       "<matplotlib.figure.Figure at 0x7f54ac208cf8>"
      ]
     },
     "metadata": {},
     "output_type": "display_data"
    }
   ],
   "source": [
    "show(result_5[2][15][1])"
   ]
  },
  {
   "cell_type": "markdown",
   "metadata": {},
   "source": [
    "Con esto se da por terminado el Hito 2 del trabajo de procesamiento de imagenes.<br><br><br>\n",
    "\n",
    "Aun asi, se mostrara a continuacion una serie de intentos o soluciones alternativas para el proyecto:\n",
    "\n",
    "# Soluciones alternativas\n",
    "\n",
    "## Para separar:\n",
    "\n",
    "Anteriormente, en el curso de procesamiento de imagenes, se creo un procedimiento de separacion de figuras efectivo, utilizando recursividad. El presente codigo puede ser encontrado en la direccion: \n",
    "https://github.com/GaEsRaRe/PDI/blob/master/Pregunta%202.ipynb\n",
    "<br>\n",
    "Parte del codigo es el siguiente:"
   ]
  },
  {
   "cell_type": "code",
   "execution_count": 50,
   "metadata": {
    "collapsed": true
   },
   "outputs": [],
   "source": [
    "def recorrer(mat,x,y,ar):\n",
    "    go = False\n",
    "    if(mat[x][y] == 0):\n",
    "        go = True\n",
    "        ar.append([x,y])\n",
    "    mat[x][y] = 155\n",
    "    if(go):\n",
    "        recorrer(mat,x+1,y,ar)\n",
    "        recorrer(mat,x,y-1,ar)\n",
    "        recorrer(mat,x,y+1,ar)\n",
    "        recorrer(mat,x-1,y,ar)\n",
    "        recorrer(mat,x+1,y-1,ar)\n",
    "        recorrer(mat,x+1,y+1,ar)\n",
    "        recorrer(mat,x-1,y+1,ar)\n",
    "        recorrer(mat,x-1,y-1,ar)\n",
    "    return"
   ]
  },
  {
   "cell_type": "markdown",
   "metadata": {},
   "source": [
    "## Para eliminar las lineas:\n",
    "\n",
    "Tambien se creo el proceso de dilatado y erosionado desde Cero:"
   ]
  },
  {
   "cell_type": "code",
   "execution_count": 51,
   "metadata": {
    "collapsed": true
   },
   "outputs": [],
   "source": [
    "def Erosion(im,pixel,mascara):\n",
    "    val = False\n",
    "    for i in range(0,mascara.shape[0]):\n",
    "        for j in range(0,mascara.shape[1]):\n",
    "            if im[pixel[0]+i][pixel[1]+j]==mascara[i][j]:\n",
    "                val = True\n",
    "            else:\n",
    "                val = False\n",
    "                break\n",
    "        if(val == False):\n",
    "            break\n",
    "    if(val == False):\n",
    "        im[pixel[0]][pixel[1]] = 255\n",
    "\n",
    "def Dilatacion(im,pixel,mascara):\n",
    "    for i in range(0,mascara.shape[0]):\n",
    "        for j in range(0,mascara.shape[1]):\n",
    "            im[pixel[0]+i][pixel[1]+j]=mascara[i][j]\n",
    "\n",
    "def BorrarLineas(img, mascara):\n",
    "    im = np.copy(img)\n",
    "    sx = int(im.shape[0])\n",
    "    sy = int(im.shape[1])\n",
    "    for i in range(0,sx):\n",
    "        for j in range(0,sy):\n",
    "            if(im[i][j]>=210):\n",
    "                im[i][j] = 255\n",
    "            else:\n",
    "                im[i][j] = 0\n",
    "    for i in range(0,im.shape[0]):\n",
    "        for j in range(0,im.shape[1]):\n",
    "            if(im[i][j]==0 and i+4<=im.shape[0] and j+4<=im.shape[1]):\n",
    "                pixel = [i,j]\n",
    "                Erosion(im,pixel,mascara)\n",
    "\n",
    "    im2 = np.copy(im)\n",
    "    for i in range(0,im.shape[0]):\n",
    "        for j in range(0,im.shape[1]):\n",
    "            if(im2[i][j]==0 and i+4<=im.shape[0] and j+4<=im.shape[1]):\n",
    "                pixel = [i,j]\n",
    "                Dilatacion(im,pixel,mascara)\n",
    "    return im\n"
   ]
  },
  {
   "cell_type": "markdown",
   "metadata": {},
   "source": [
    "Ambas opciones fueron descartadas por el costo de procesamiento de cada una, remplazadas por funciones mas simples o nativas de opencv"
   ]
  },
  {
   "cell_type": "markdown",
   "metadata": {},
   "source": [
    "## Sobre el trabajo:\n",
    "\n",
    "El presente trabajo se encuentra de manera libre en https://github.com/GaEsRaRe/PDIHito2\n"
   ]
  }
 ],
 "metadata": {
  "kernelspec": {
   "display_name": "Python 3",
   "language": "python",
   "name": "python3"
  },
  "language_info": {
   "codemirror_mode": {
    "name": "ipython",
    "version": 3
   },
   "file_extension": ".py",
   "mimetype": "text/x-python",
   "name": "python",
   "nbconvert_exporter": "python",
   "pygments_lexer": "ipython3",
   "version": "3.5.2"
  }
 },
 "nbformat": 4,
 "nbformat_minor": 2
}
